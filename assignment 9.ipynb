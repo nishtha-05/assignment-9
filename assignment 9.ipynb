{
 "cells": [
  {
   "cell_type": "code",
   "execution_count": null,
   "id": "4a755cc3-760f-4d12-b05a-9ff17fb2a851",
   "metadata": {},
   "outputs": [],
   "source": [
    "1. open mode is used to open the file.the following are the modes in which we can open the file\n",
    "r - open a file in read mode\n",
    "w - opens / create a text file in write mode\n",
    "a - opens a file in append mode"
   ]
  },
  {
   "cell_type": "code",
   "execution_count": null,
   "id": "a4cdd458-47f2-4463-969f-6de045b47404",
   "metadata": {},
   "outputs": [],
   "source": [
    "2. Python file method close() closes the opened file. a closed file cannot be read or written any more. it also saves data to be corrupted"
   ]
  },
  {
   "cell_type": "code",
   "execution_count": null,
   "id": "89866f39-e9f7-4a28-9c68-402672dd0c64",
   "metadata": {},
   "outputs": [],
   "source": [
    "#2\n",
    "f = open(\"test8.txt\", \"w\")"
   ]
  },
  {
   "cell_type": "code",
   "execution_count": 12,
   "id": "82fda4f6-c557-4e22-bfe5-21ecb2c0869e",
   "metadata": {},
   "outputs": [
    {
     "data": {
      "text/plain": [
       "33"
      ]
     },
     "execution_count": 12,
     "metadata": {},
     "output_type": "execute_result"
    }
   ],
   "source": [
    "f.write(\"I want to become a Data Scientist\")"
   ]
  },
  {
   "cell_type": "code",
   "execution_count": 13,
   "id": "5a30b001-4690-4569-b9ab-f42ec7f0cbf5",
   "metadata": {},
   "outputs": [],
   "source": [
    "f.close()"
   ]
  },
  {
   "cell_type": "code",
   "execution_count": 14,
   "id": "93eaeb8a-7cf6-43e8-97a3-6eccbc7282fe",
   "metadata": {},
   "outputs": [],
   "source": [
    "f = open(\"test8.txt\" ,\"r\")"
   ]
  },
  {
   "cell_type": "code",
   "execution_count": 15,
   "id": "e48dbc09-dd27-4919-86f9-04388730988c",
   "metadata": {},
   "outputs": [
    {
     "data": {
      "text/plain": [
       "'I want to become a Data Scientist'"
      ]
     },
     "execution_count": 15,
     "metadata": {},
     "output_type": "execute_result"
    }
   ],
   "source": [
    "f.read()"
   ]
  },
  {
   "cell_type": "code",
   "execution_count": null,
   "id": "f4ff0bb9-bb90-4e8a-96ef-90ebf6f20989",
   "metadata": {},
   "outputs": [],
   "source": [
    "4.\n",
    "read()= we can read all data stored in a particular file\n",
    "readline()= this will return a line which we want to read\n",
    "readlines() = thi will return all the lines in the form of list"
   ]
  },
  {
   "cell_type": "code",
   "execution_count": null,
   "id": "7b644bb5-e218-495e-9961-610501e881e1",
   "metadata": {},
   "outputs": [],
   "source": [
    "5.\n",
    ".it creates copies of the file.the advantage of using with open is thst we don't need to close the file."
   ]
  },
  {
   "cell_type": "code",
   "execution_count": 5,
   "id": "75c54aa1-9d4d-48f8-b235-3e9aa3ee5295",
   "metadata": {},
   "outputs": [],
   "source": [
    "6.\n",
    "write()= it will write content in the file without adding extra character\n",
    "f = open(\"test8.txt\", \"w\")\n",
    "f.write(\"I want to become a Data Scientist\")\n",
    "\n",
    "\n",
    "writelines()= it write list of data in to file\n",
    "\n",
    "f=open(\"data.txt\" ,\"w\")\n",
    "f.writelines([\"hello\" ,\" pwskills\"])\n",
    "f.close()"
   ]
  }
 ],
 "metadata": {
  "kernelspec": {
   "display_name": "Python 3 (ipykernel)",
   "language": "python",
   "name": "python3"
  },
  "language_info": {
   "codemirror_mode": {
    "name": "ipython",
    "version": 3
   },
   "file_extension": ".py",
   "mimetype": "text/x-python",
   "name": "python",
   "nbconvert_exporter": "python",
   "pygments_lexer": "ipython3",
   "version": "3.10.8"
  }
 },
 "nbformat": 4,
 "nbformat_minor": 5
}
